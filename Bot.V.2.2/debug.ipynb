{
 "cells": [
  {
   "cell_type": "code",
   "execution_count": 1,
   "metadata": {},
   "outputs": [],
   "source": [
    "from App.Comms.Mouth.translate import foo, get_len\n",
    "import yaml # type: ignore"
   ]
  },
  {
   "cell_type": "code",
   "execution_count": 2,
   "metadata": {},
   "outputs": [],
   "source": [
    "with open('App/Comms/Mouth/Templets/formats.yaml', 'r') as file:\n",
    "    data = yaml.safe_load(file)"
   ]
  },
  {
   "cell_type": "code",
   "execution_count": 3,
   "metadata": {},
   "outputs": [],
   "source": [
    "paths = data[\"SelfToMeta\"]['list']['paths']\n",
    "dictionary = data[\"Test\"][\"list\"]"
   ]
  },
  {
   "cell_type": "code",
   "execution_count": 4,
   "metadata": {},
   "outputs": [],
   "source": [
    "path = paths[4][0][0]\n",
    "path = [path]"
   ]
  },
  {
   "cell_type": "code",
   "execution_count": 5,
   "metadata": {},
   "outputs": [
    {
     "data": {
      "text/plain": [
       "['sections']"
      ]
     },
     "execution_count": 5,
     "metadata": {},
     "output_type": "execute_result"
    }
   ],
   "source": [
    "path"
   ]
  },
  {
   "cell_type": "code",
   "execution_count": 6,
   "metadata": {},
   "outputs": [
    {
     "data": {
      "text/plain": [
       "[{'section': 'Section0',\n",
       "  'rows': [{'id': 'Id0', 'body': 'Body0', 'description': 'Description0'},\n",
       "   {'id': 'Id1', 'body': 'Body1', 'description': 'Description1'}]},\n",
       " {'section': 'Section',\n",
       "  'rows': [{'id': 'Id', 'body': 'Body', 'description': 'Description'}]}]"
      ]
     },
     "execution_count": 6,
     "metadata": {},
     "output_type": "execute_result"
    }
   ],
   "source": [
    "foo(path, dictionary)"
   ]
  },
  {
   "cell_type": "code",
   "execution_count": 7,
   "metadata": {},
   "outputs": [
    {
     "data": {
      "text/plain": [
       "2"
      ]
     },
     "execution_count": 7,
     "metadata": {},
     "output_type": "execute_result"
    }
   ],
   "source": [
    "get_len(path, dictionary)"
   ]
  },
  {
   "cell_type": "code",
   "execution_count": 12,
   "metadata": {},
   "outputs": [
    {
     "name": "stdout",
     "output_type": "stream",
     "text": [
      "header\n",
      "body\n",
      "footer\n",
      "button\n",
      "sections\n"
     ]
    }
   ],
   "source": [
    "for key in dictionary:\n",
    "    print(key)\n"
   ]
  },
  {
   "cell_type": "code",
   "execution_count": 14,
   "metadata": {},
   "outputs": [],
   "source": [
    "listt = dictionary[\"sections\"]"
   ]
  },
  {
   "cell_type": "code",
   "execution_count": 29,
   "metadata": {},
   "outputs": [
    {
     "name": "stdout",
     "output_type": "stream",
     "text": [
      "0 section str\n",
      "0 rows list\n",
      "1 section str\n",
      "1 rows list\n"
     ]
    }
   ],
   "source": [
    "for position, dictt in enumerate(listt):\n",
    "    for key in dictt:\n",
    "        if isinstance(dictt[key], str):\n",
    "            print(position, key, \"str\")\n",
    "        if isinstance(dictt[key], list):\n",
    "            print(position, key, 'list')"
   ]
  },
  {
   "cell_type": "code",
   "execution_count": 70,
   "metadata": {},
   "outputs": [],
   "source": [
    "def find_first_str(data, path: list=[]):\n",
    "    current = data\n",
    "    if isinstance(current, dict):\n",
    "        for key, obj in current.items():\n",
    "            path.append(key)\n",
    "            return find_first_str(obj, path)\n",
    "    if isinstance(current, list):\n",
    "        for idx, obj in enumerate(current):\n",
    "            path.append(idx)\n",
    "            return find_first_str(obj, path)\n",
    "    if isinstance(current, str):\n",
    "        Path = path\n",
    "        path = []\n",
    "        return current, Path"
   ]
  },
  {
   "cell_type": "code",
   "execution_count": 71,
   "metadata": {},
   "outputs": [
    {
     "data": {
      "text/plain": [
       "('Header', ['header'])"
      ]
     },
     "execution_count": 71,
     "metadata": {},
     "output_type": "execute_result"
    }
   ],
   "source": [
    "find_first_str(dictionary, [])"
   ]
  },
  {
   "cell_type": "code",
   "execution_count": 72,
   "metadata": {},
   "outputs": [
    {
     "name": "stdout",
     "output_type": "stream",
     "text": [
      "('Header', ['header'])\n",
      "('Body', ['body'])\n",
      "('Footer', ['footer'])\n",
      "('Button', ['button'])\n",
      "('Section0', ['sections', 0, 'section'])\n"
     ]
    }
   ],
   "source": [
    "for key, obj in dictionary.items():\n",
    "    print(find_first_str(obj, [key,]))"
   ]
  },
  {
   "cell_type": "code",
   "execution_count": 75,
   "metadata": {},
   "outputs": [],
   "source": [
    "def extract_structure(data, path: str=[], structure: str=[]):\n",
    "\n",
    "    if isinstance(data, dict):\n",
    "        for key, value in data.items():\n",
    "            extract_structure(value, path + [key], structure)\n",
    "\n",
    "    elif isinstance(data, list):\n",
    "        for idx, value in enumerate(data):\n",
    "            extract_structure(value, path + [idx], structure)\n",
    "            \n",
    "    else:\n",
    "        structure.append(path)\n",
    "\n",
    "    return structure\n",
    "\n"
   ]
  },
  {
   "cell_type": "code",
   "execution_count": 88,
   "metadata": {},
   "outputs": [
    {
     "data": {
      "text/plain": [
       "[['header'],\n",
       " ['body'],\n",
       " ['footer'],\n",
       " ['button'],\n",
       " ['sections', 0, 'section'],\n",
       " ['sections', 0, 'rows', 0, 'id'],\n",
       " ['sections', 0, 'rows', 0, 'body'],\n",
       " ['sections', 0, 'rows', 0, 'description'],\n",
       " ['sections', 0, 'rows', 1, 'id'],\n",
       " ['sections', 0, 'rows', 1, 'body'],\n",
       " ['sections', 0, 'rows', 1, 'description'],\n",
       " ['sections', 1, 'section'],\n",
       " ['sections', 1, 'rows', 0, 'id'],\n",
       " ['sections', 1, 'rows', 0, 'body'],\n",
       " ['sections', 1, 'rows', 0, 'description'],\n",
       " ['header'],\n",
       " ['body'],\n",
       " ['footer'],\n",
       " ['button'],\n",
       " ['sections', 0, 'section'],\n",
       " ['sections', 0, 'rows', 0, 'id'],\n",
       " ['sections', 0, 'rows', 0, 'body'],\n",
       " ['sections', 0, 'rows', 0, 'description'],\n",
       " ['sections', 0, 'rows', 1, 'id'],\n",
       " ['sections', 0, 'rows', 1, 'body'],\n",
       " ['sections', 0, 'rows', 1, 'description'],\n",
       " ['sections', 1, 'section'],\n",
       " ['sections', 1, 'rows', 0, 'id'],\n",
       " ['sections', 1, 'rows', 0, 'body'],\n",
       " ['sections', 1, 'rows', 0, 'description'],\n",
       " ['header'],\n",
       " ['body'],\n",
       " ['footer'],\n",
       " ['button'],\n",
       " ['sections', 0, 'section'],\n",
       " ['sections', 0, 'rows', 0, 'id'],\n",
       " ['sections', 0, 'rows', 0, 'body'],\n",
       " ['sections', 0, 'rows', 0, 'description'],\n",
       " ['sections', 0, 'rows', 1, 'id'],\n",
       " ['sections', 0, 'rows', 1, 'body'],\n",
       " ['sections', 0, 'rows', 1, 'description'],\n",
       " ['sections', 1, 'section'],\n",
       " ['sections', 1, 'rows', 0, 'id'],\n",
       " ['sections', 1, 'rows', 0, 'body'],\n",
       " ['sections', 1, 'rows', 0, 'description'],\n",
       " ['header'],\n",
       " ['body'],\n",
       " ['footer'],\n",
       " ['button'],\n",
       " ['sections', 0, 'section'],\n",
       " ['sections', 0, 'rows', 0, 'id'],\n",
       " ['sections', 0, 'rows', 0, 'body'],\n",
       " ['sections', 0, 'rows', 0, 'description'],\n",
       " ['sections', 0, 'rows', 1, 'id'],\n",
       " ['sections', 0, 'rows', 1, 'body'],\n",
       " ['sections', 0, 'rows', 1, 'description'],\n",
       " ['sections', 1, 'section'],\n",
       " ['sections', 1, 'rows', 0, 'id'],\n",
       " ['sections', 1, 'rows', 0, 'body'],\n",
       " ['sections', 1, 'rows', 0, 'description'],\n",
       " ['header'],\n",
       " ['body'],\n",
       " ['footer'],\n",
       " ['button'],\n",
       " ['sections', 0, 'section'],\n",
       " ['sections', 0, 'rows', 0, 'id'],\n",
       " ['sections', 0, 'rows', 0, 'body'],\n",
       " ['sections', 0, 'rows', 0, 'description'],\n",
       " ['sections', 0, 'rows', 1, 'id'],\n",
       " ['sections', 0, 'rows', 1, 'body'],\n",
       " ['sections', 0, 'rows', 1, 'description'],\n",
       " ['sections', 1, 'section'],\n",
       " ['sections', 1, 'rows', 0, 'id'],\n",
       " ['sections', 1, 'rows', 0, 'body'],\n",
       " ['sections', 1, 'rows', 0, 'description'],\n",
       " ['header'],\n",
       " ['body'],\n",
       " ['footer'],\n",
       " ['button'],\n",
       " ['sections', 0, 'section'],\n",
       " ['sections', 0, 'rows', 0, 'id'],\n",
       " ['sections', 0, 'rows', 0, 'body'],\n",
       " ['sections', 0, 'rows', 0, 'description'],\n",
       " ['sections', 0, 'rows', 1, 'id'],\n",
       " ['sections', 0, 'rows', 1, 'body'],\n",
       " ['sections', 0, 'rows', 1, 'description'],\n",
       " ['sections', 1, 'section'],\n",
       " ['sections', 1, 'rows', 0, 'id'],\n",
       " ['sections', 1, 'rows', 0, 'body'],\n",
       " ['sections', 1, 'rows', 0, 'description'],\n",
       " ['header'],\n",
       " ['body'],\n",
       " ['footer'],\n",
       " ['button'],\n",
       " ['sections', 0, 'section'],\n",
       " ['sections', 0, 'rows', 0, 'id'],\n",
       " ['sections', 0, 'rows', 0, 'body'],\n",
       " ['sections', 0, 'rows', 0, 'description'],\n",
       " ['sections', 0, 'rows', 1, 'id'],\n",
       " ['sections', 0, 'rows', 1, 'body'],\n",
       " ['sections', 0, 'rows', 1, 'description'],\n",
       " ['sections', 1, 'section'],\n",
       " ['sections', 1, 'rows', 0, 'id'],\n",
       " ['sections', 1, 'rows', 0, 'body'],\n",
       " ['sections', 1, 'rows', 0, 'description'],\n",
       " ['header'],\n",
       " ['body'],\n",
       " ['footer'],\n",
       " ['button'],\n",
       " ['sections', 0, 'section'],\n",
       " ['sections', 0, 'rows', 0, 'id'],\n",
       " ['sections', 0, 'rows', 0, 'body'],\n",
       " ['sections', 0, 'rows', 0, 'description'],\n",
       " ['sections', 0, 'rows', 1, 'id'],\n",
       " ['sections', 0, 'rows', 1, 'body'],\n",
       " ['sections', 0, 'rows', 1, 'description'],\n",
       " ['sections', 1, 'section'],\n",
       " ['sections', 1, 'rows', 0, 'id'],\n",
       " ['sections', 1, 'rows', 0, 'body'],\n",
       " ['sections', 1, 'rows', 0, 'description'],\n",
       " ['header'],\n",
       " ['body'],\n",
       " ['footer'],\n",
       " ['button'],\n",
       " ['sections', 0, 'section'],\n",
       " ['sections', 0, 'rows', 0, 'id'],\n",
       " ['sections', 0, 'rows', 0, 'body'],\n",
       " ['sections', 0, 'rows', 0, 'description'],\n",
       " ['sections', 0, 'rows', 1, 'id'],\n",
       " ['sections', 0, 'rows', 1, 'body'],\n",
       " ['sections', 0, 'rows', 1, 'description'],\n",
       " ['sections', 1, 'section'],\n",
       " ['sections', 1, 'rows', 0, 'id'],\n",
       " ['sections', 1, 'rows', 0, 'body'],\n",
       " ['sections', 1, 'rows', 0, 'description'],\n",
       " ['header'],\n",
       " ['body'],\n",
       " ['footer'],\n",
       " ['button'],\n",
       " ['sections', 0, 'section'],\n",
       " ['sections', 0, 'rows', 0, 'id'],\n",
       " ['sections', 0, 'rows', 0, 'body'],\n",
       " ['sections', 0, 'rows', 0, 'description'],\n",
       " ['sections', 0, 'rows', 1, 'id'],\n",
       " ['sections', 0, 'rows', 1, 'body'],\n",
       " ['sections', 0, 'rows', 1, 'description'],\n",
       " ['sections', 1, 'section'],\n",
       " ['sections', 1, 'rows', 0, 'id'],\n",
       " ['sections', 1, 'rows', 0, 'body'],\n",
       " ['sections', 1, 'rows', 0, 'description']]"
      ]
     },
     "execution_count": 88,
     "metadata": {},
     "output_type": "execute_result"
    }
   ],
   "source": [
    "extract_structure(dictionary)"
   ]
  },
  {
   "cell_type": "code",
   "execution_count": 90,
   "metadata": {},
   "outputs": [],
   "source": [
    "paths = extract_structure(dictionary)"
   ]
  },
  {
   "cell_type": "code",
   "execution_count": 99,
   "metadata": {},
   "outputs": [
    {
     "data": {
      "text/plain": [
       "['sections', 0, 'rows', 0, 'id']"
      ]
     },
     "execution_count": 99,
     "metadata": {},
     "output_type": "execute_result"
    }
   ],
   "source": [
    "paths[5]"
   ]
  },
  {
   "cell_type": "code",
   "execution_count": 84,
   "metadata": {},
   "outputs": [],
   "source": [
    "def go_to_nested_path(data, path):\n",
    "        current_level = data\n",
    "\n",
    "        for key in path:\n",
    "            if isinstance(current_level, dict):\n",
    "                if key in current_level:\n",
    "                    current_level = current_level[key]\n",
    "            elif isinstance(current_level, list):\n",
    "                index = int(key)\n",
    "                current_level = current_level[index]\n",
    "                    \n",
    "        return current_level"
   ]
  },
  {
   "cell_type": "code",
   "execution_count": 92,
   "metadata": {},
   "outputs": [
    {
     "name": "stdout",
     "output_type": "stream",
     "text": [
      "Header\n",
      "Body\n",
      "Footer\n",
      "Button\n",
      "Section0\n",
      "Id0\n",
      "Body0\n",
      "Description0\n",
      "Id1\n",
      "Body1\n",
      "Description1\n",
      "Section\n",
      "Id\n",
      "Body\n",
      "Description\n",
      "Header\n",
      "Body\n",
      "Footer\n",
      "Button\n",
      "Section0\n",
      "Id0\n",
      "Body0\n",
      "Description0\n",
      "Id1\n",
      "Body1\n",
      "Description1\n",
      "Section\n",
      "Id\n",
      "Body\n",
      "Description\n",
      "Header\n",
      "Body\n",
      "Footer\n",
      "Button\n",
      "Section0\n",
      "Id0\n",
      "Body0\n",
      "Description0\n",
      "Id1\n",
      "Body1\n",
      "Description1\n",
      "Section\n",
      "Id\n",
      "Body\n",
      "Description\n",
      "Header\n",
      "Body\n",
      "Footer\n",
      "Button\n",
      "Section0\n",
      "Id0\n",
      "Body0\n",
      "Description0\n",
      "Id1\n",
      "Body1\n",
      "Description1\n",
      "Section\n",
      "Id\n",
      "Body\n",
      "Description\n",
      "Header\n",
      "Body\n",
      "Footer\n",
      "Button\n",
      "Section0\n",
      "Id0\n",
      "Body0\n",
      "Description0\n",
      "Id1\n",
      "Body1\n",
      "Description1\n",
      "Section\n",
      "Id\n",
      "Body\n",
      "Description\n",
      "Header\n",
      "Body\n",
      "Footer\n",
      "Button\n",
      "Section0\n",
      "Id0\n",
      "Body0\n",
      "Description0\n",
      "Id1\n",
      "Body1\n",
      "Description1\n",
      "Section\n",
      "Id\n",
      "Body\n",
      "Description\n",
      "Header\n",
      "Body\n",
      "Footer\n",
      "Button\n",
      "Section0\n",
      "Id0\n",
      "Body0\n",
      "Description0\n",
      "Id1\n",
      "Body1\n",
      "Description1\n",
      "Section\n",
      "Id\n",
      "Body\n",
      "Description\n",
      "Header\n",
      "Body\n",
      "Footer\n",
      "Button\n",
      "Section0\n",
      "Id0\n",
      "Body0\n",
      "Description0\n",
      "Id1\n",
      "Body1\n",
      "Description1\n",
      "Section\n",
      "Id\n",
      "Body\n",
      "Description\n",
      "Header\n",
      "Body\n",
      "Footer\n",
      "Button\n",
      "Section0\n",
      "Id0\n",
      "Body0\n",
      "Description0\n",
      "Id1\n",
      "Body1\n",
      "Description1\n",
      "Section\n",
      "Id\n",
      "Body\n",
      "Description\n",
      "Header\n",
      "Body\n",
      "Footer\n",
      "Button\n",
      "Section0\n",
      "Id0\n",
      "Body0\n",
      "Description0\n",
      "Id1\n",
      "Body1\n",
      "Description1\n",
      "Section\n",
      "Id\n",
      "Body\n",
      "Description\n",
      "Header\n",
      "Body\n",
      "Footer\n",
      "Button\n",
      "Section0\n",
      "Id0\n",
      "Body0\n",
      "Description0\n",
      "Id1\n",
      "Body1\n",
      "Description1\n",
      "Section\n",
      "Id\n",
      "Body\n",
      "Description\n",
      "Header\n",
      "Body\n",
      "Footer\n",
      "Button\n",
      "Section0\n",
      "Id0\n",
      "Body0\n",
      "Description0\n",
      "Id1\n",
      "Body1\n",
      "Description1\n",
      "Section\n",
      "Id\n",
      "Body\n",
      "Description\n"
     ]
    }
   ],
   "source": [
    "for path in paths:\n",
    "    print(go_to_nested_path(dictionary, path))"
   ]
  },
  {
   "cell_type": "code",
   "execution_count": 119,
   "metadata": {},
   "outputs": [],
   "source": [
    "def substitute_idexes(path, desiredPath):\n",
    "    typ = path[0]\n",
    "    match typ:\n",
    "        case \"buttons\":\n",
    "            match len(path):\n",
    "                case 3:\n",
    "                    desiredPath[3] = path[1]\n",
    "                case _:\n",
    "                    pass \n",
    "        case \"sections\":\n",
    "            match len(path):\n",
    "                case 3:\n",
    "                    desiredPath[4] = path[1]\n",
    "                case 5:\n",
    "                    desiredPath[4], desiredPath[6] = path[1], path[3]\n",
    "        case _:\n",
    "            pass\n",
    "\n",
    "    return desiredPath"
   ]
  },
  {
   "cell_type": "code",
   "execution_count": 125,
   "metadata": {},
   "outputs": [],
   "source": [
    "path =[\"sections\", 1, \"rows\", 2, \"description\"]\n",
    "dpath = ['interactive', 'action', 'section', 'sections',\"_N_\", 'rows', \"_M_\", 'description']"
   ]
  },
  {
   "cell_type": "code",
   "execution_count": 115,
   "metadata": {},
   "outputs": [
    {
     "data": {
      "text/plain": [
       "4"
      ]
     },
     "execution_count": 115,
     "metadata": {},
     "output_type": "execute_result"
    }
   ],
   "source": [
    "dpath.index(\"_N_\")"
   ]
  },
  {
   "cell_type": "code",
   "execution_count": 126,
   "metadata": {},
   "outputs": [
    {
     "data": {
      "text/plain": [
       "['interactive', 'action', 'section', 'sections', 1, 'rows', 2, 'description']"
      ]
     },
     "execution_count": 126,
     "metadata": {},
     "output_type": "execute_result"
    }
   ],
   "source": [
    "substitute_idexes(path, dpath)"
   ]
  }
 ],
 "metadata": {
  "kernelspec": {
   "display_name": "Python 3",
   "language": "python",
   "name": "python3"
  },
  "language_info": {
   "codemirror_mode": {
    "name": "ipython",
    "version": 3
   },
   "file_extension": ".py",
   "mimetype": "text/x-python",
   "name": "python",
   "nbconvert_exporter": "python",
   "pygments_lexer": "ipython3",
   "version": "3.12.2"
  }
 },
 "nbformat": 4,
 "nbformat_minor": 2
}
