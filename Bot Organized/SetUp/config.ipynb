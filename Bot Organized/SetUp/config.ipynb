{
 "cells": [
  {
   "cell_type": "code",
   "execution_count": 1,
   "metadata": {},
   "outputs": [],
   "source": [
    "import yaml"
   ]
  },
  {
   "cell_type": "code",
   "execution_count": 5,
   "metadata": {},
   "outputs": [
    {
     "name": "stdout",
     "output_type": "stream",
     "text": [
      "ACCESS_TOKEN: EAAO3i2rOs5EBO2DXcWrKa375kAWZAhZBfXT7IdFP7XOC5gRAMgo7AaXl2TTZCwCteZCCyZCRPHOcO1pzX7yhZBPnzpibEmLW9W4JZBsfoCIGyKYpcVDPEdKWQwMvYojo9ZC30MgqHLyYlmZAn5Ba8APr6aoE3y1BUBxNrWvpYbJzwfxXaKFs4E6mQ6TrliPoA7CfNUChkzH9iEmGltVe2oU0ZD\n",
      "APP_ID: 1046234350400401\n",
      "APP_SECRET: 3809c72b9ebfaae5aba5c3e69e9eec80\n",
      "RECIPIENTWAID: +5561984168896\n",
      "PHONE_NUMBER_ID: 357875687418333\n",
      "VERSION: v18.0\n",
      "VERIFY_TOKEN: 1234\n"
     ]
    }
   ],
   "source": [
    "with open('config.yaml', 'r') as file:\n",
    "    yaml_content = yaml.safe_load(file)\n",
    "\n",
    "for table_name, table_content in yaml_content.items():\n",
    "    print(f'{table_name}: {table_content}')"
   ]
  },
  {
   "cell_type": "code",
   "execution_count": 6,
   "metadata": {},
   "outputs": [],
   "source": [
    "def load_config(app):\n",
    "    with open('config.yaml', 'r') as file:\n",
    "        yaml_content = yaml.safe_load(file)\n",
    "\n",
    "    for key, value in yaml_content.items():\n",
    "        app.config[key] = value"
   ]
  }
 ],
 "metadata": {
  "kernelspec": {
   "display_name": "Python 3",
   "language": "python",
   "name": "python3"
  },
  "language_info": {
   "codemirror_mode": {
    "name": "ipython",
    "version": 3
   },
   "file_extension": ".py",
   "mimetype": "text/x-python",
   "name": "python",
   "nbconvert_exporter": "python",
   "pygments_lexer": "ipython3",
   "version": "3.12.2"
  }
 },
 "nbformat": 4,
 "nbformat_minor": 2
}
