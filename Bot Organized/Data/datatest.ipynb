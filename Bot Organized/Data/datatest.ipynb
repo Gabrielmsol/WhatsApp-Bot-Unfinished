{
 "cells": [
  {
   "cell_type": "code",
   "execution_count": 1,
   "metadata": {},
   "outputs": [],
   "source": [
    "import yaml\n",
    "import sqlite3 as sql "
   ]
  },
  {
   "cell_type": "markdown",
   "metadata": {},
   "source": [
    "# Função responsavel por criar query de tabela pro sql"
   ]
  },
  {
   "cell_type": "code",
   "execution_count": 2,
   "metadata": {},
   "outputs": [],
   "source": [
    "def generate_table_query(table_templete):\n",
    "    table_name = list(table_templete.keys())[0]\n",
    "    columns = table_templete[table_name]['columns']\n",
    "    table_options = table_templete[table_name]['table_options']\n",
    "\n",
    "    column_list = []\n",
    "\n",
    "    for column in columns:\n",
    "        col_str = f'{column['name']} {column['type']}'\n",
    "        options = column.get('options')\n",
    "\n",
    "        if options:\n",
    "            if isinstance(options, list):\n",
    "                col_str += ' ' + ' '.join(options)\n",
    "            else:\n",
    "                col_str += ' ' + options\n",
    "\n",
    "        column_list.append(col_str)\n",
    "\n",
    "    if table_options:\n",
    "        if isinstance(table_options, list):\n",
    "                column_list.extend(table_options)\n",
    "        else:\n",
    "            column_list.append(table_options)            \n",
    "\n",
    "    query = f'CREATE TABLE IF NOT EXISTS {table_name} (\\n '+',\\n '.join(column_list)+'\\n)'\n",
    "\n",
    "    return query+';'"
   ]
  },
  {
   "cell_type": "markdown",
   "metadata": {},
   "source": [
    "# Classe de debug\n",
    "\n",
    "- Pega o nome das tabelas num arquivo yaml;\n",
    "- pega os objetos em uma tabela\n",
    "- Pega o tipo do objeto numa tabela"
   ]
  },
  {
   "cell_type": "code",
   "execution_count": 52,
   "metadata": {},
   "outputs": [],
   "source": [
    "class WhereIsThat:\n",
    "    def __init__(self, file_name: str):\n",
    "        self.get_file(file_name)\n",
    "        self.get_list_names()\n",
    "\n",
    "    def get_file(self, file_name):\n",
    "        with open('Templet/'+file_name, 'r') as file:\n",
    "            self.content = yaml.safe_load(file)\n",
    "\n",
    "    def get_list_names(self):\n",
    "        self.list = list(self.content.keys())\n",
    "\n",
    "    def get_names(self, table):\n",
    "        columns = self.content[table]['columns']\n",
    "        names = []\n",
    "        for column in columns: \n",
    "            names.append(column['name'])\n",
    "        return names\n",
    "\n",
    "    def get_types(self, table):\n",
    "        columns = self.content[table]['columns']\n",
    "        types = []\n",
    "        for column in columns: \n",
    "            types.append(column['type'])\n",
    "        return types\n",
    "\n",
    "    def what_about(self, table):\n",
    "        return list(zip(self.get_names(table), self.get_types(table)))\n"
   ]
  },
  {
   "cell_type": "code",
   "execution_count": 53,
   "metadata": {},
   "outputs": [
    {
     "name": "stdout",
     "output_type": "stream",
     "text": [
      "['Semester', 'UpComingEvents', 'User', 'Question', 'Grp', 'Participants', 'Date', 'Grade']\n",
      "[('year', 'INTEGER'), ('period', 'INTEGER'), ('start', 'TEXT'), ('end', 'TEXT')]\n"
     ]
    }
   ],
   "source": [
    "test = WhereIsThat('semester.yaml')\n",
    "\n",
    "print(test.list)\n",
    "print(test.what_about('Semester'))"
   ]
  },
  {
   "cell_type": "code",
   "execution_count": 5,
   "metadata": {},
   "outputs": [
    {
     "name": "stdout",
     "output_type": "stream",
     "text": [
      "CREATE TABLE IF NOT EXISTS Semester (\n",
      " year INTEGER NOT NULL,\n",
      " period INTEGER NOT NULL CHECK (period IN (1, 2)),\n",
      " start TEXT,\n",
      " end TEXT,\n",
      " UNIQUE (year, period)\n",
      ");\n",
      "CREATE TABLE IF NOT EXISTS UpComingEvents (\n",
      " day TEXT NOT NULL,\n",
      " event TEXT\n",
      ");\n",
      "CREATE TABLE IF NOT EXISTS User (\n",
      " wa_id TEXT PRIMARY KEY,\n",
      " matr INTEGER DEFAULT 0,\n",
      " name TEXT DEFAULT 'UNKNOWN',\n",
      " role TEXT DEFAULT 'UNKNOWN',\n",
      " age INTEGER DEFAULT 0,\n",
      " gender TEXT DEFAULT 'UNKNOWN',\n",
      " origin TEXT DEFAULT 'UNKOWN',\n",
      " trancou INTEGER DEFAULT 0 CHECK (trancou IN (0, 1)),\n",
      " UNIQUE (wa_id, matr)\n",
      ");\n",
      "CREATE TABLE IF NOT EXISTS Question (\n",
      " wa_id TEXT,\n",
      " name INTEGER DEFAULT 0 CHECK (name IN (0, 1)),\n",
      " gender INTEGER DEFAULT 0 CHECK (gender IN (0, 1)),\n",
      " matr INTEGER DEFAULT 0 CHECK (matr IN (0, 1)),\n",
      " origin INTEGER DEFAULT 0 CHECK (origin IN (0, 1)),\n",
      " age INTEGER DEFAULT 0 CHECK (age IN (0, 1)),\n",
      " FOREIGN KEY (wa_id) REFERENCES User(wa_id)\n",
      ");\n",
      "CREATE TABLE IF NOT EXISTS Grp (\n",
      " grp_id INTEGER PRIMARY KEY AUTOINCREMENT,\n",
      " grpName TEXT,\n",
      " narrador INTEGER NOT NULL,\n",
      " FOREIGN KEY (narrador) REFERENCES User(matr),\n",
      " UNIQUE (grpName, narrador)\n",
      ");\n",
      "CREATE TABLE IF NOT EXISTS Participants (\n",
      " grp_id INTEGER NOT NULL,\n",
      " members INTEGER NOT NULL,\n",
      " FOREIGN KEY (grp_id) REFERENCES Grp(grp_id),\n",
      " FOREIGN KEY (members) REFERENCES User(matr)\n",
      ");\n",
      "CREATE TABLE IF NOT EXISTS Date (\n",
      " day TEXT PRIMARY KEY,\n",
      " confirmation INTEGER DEFAULT 1 CHECK (confirmation IN (0, 1))\n",
      ");\n",
      "CREATE TABLE IF NOT EXISTS Grade (\n",
      " matr INTEGER NOT NULL,\n",
      " day TEXT NOT NULL,\n",
      " grade REAL DEFAULT 0,\n",
      " addend TEXT DEFAULT 'None',\n",
      " attend INTEGER DEFAULT 0 CHECK (attend IN (0, 1)),\n",
      " rep INTEGER DEFAULT 0 CHECK (rep IN (0, 1)),\n",
      " FOREIGN KEY (matr) REFERENCES User(matr),\n",
      " UNIQUE (matr, day)\n",
      ");\n"
     ]
    }
   ],
   "source": [
    "with open('semester.yaml', 'r') as file:\n",
    "    yaml_content = yaml.safe_load(file)\n",
    "\n",
    "for table_name, table_content in yaml_content.items():\n",
    "    print(generate_table_query({table_name: table_content}))"
   ]
  },
  {
   "cell_type": "markdown",
   "metadata": {},
   "source": [
    "# Cria uma classe que se conecta ao DataBase \n",
    "\n",
    "Esta Classe:\n",
    "- Realiza uma função fornecida \n",
    "\n",
    "Objetivo é reduzir chances de bugs e erros se o sql nunca manter uma conecção aberta por tempo de mais "
   ]
  },
  {
   "cell_type": "code",
   "execution_count": 54,
   "metadata": {},
   "outputs": [],
   "source": [
    "def try_execute(func):\n",
    "    def wrapper(self, *args, **kwargs):\n",
    "        try:\n",
    "            conn = sql.connect('DataBase/'+self.file_name)\n",
    "            self.cursor = conn.cursor()\n",
    "            result = func(self, *args, **kwargs)\n",
    "            self.cursor.close()\n",
    "            conn.commit()\n",
    "            conn.close()\n",
    "            return result\n",
    "\n",
    "        except Exception as error:\n",
    "            return error\n",
    "\n",
    "    return wrapper"
   ]
  },
  {
   "cell_type": "code",
   "execution_count": 55,
   "metadata": {},
   "outputs": [],
   "source": [
    "class DbConnect:\n",
    "    def __init__(self, file_name: str):\n",
    "        self.file_name = file_name\n",
    "\n",
    "    @try_execute\n",
    "    def create_tables(self, yaml_file_name: str):\n",
    "        with open('Templet/'+yaml_file_name, 'r') as file:\n",
    "            self.yaml_content = yaml.safe_load(file)\n",
    "\n",
    "        for table_name, table_content in self.yaml_content.items():\n",
    "            query = generate_table_query({table_name: table_content})\n",
    "            self.cursor.execute(query)\n",
    "\n",
    "    @try_execute\n",
    "    def insert_into(self, table_name: str, **what):\n",
    "        keys = ', '.join(what.keys())\n",
    "        placeholders = ', '.join(['?'] * len(what))\n",
    "        values = tuple(what.values())\n",
    "        query = f'''\n",
    "            INSERT OR IGNORE INTO {table_name} ({keys})\n",
    "            VALUES ({placeholders})\n",
    "''' \n",
    "        self.cursor.execute(query, values)\n",
    "    \n",
    "    @try_execute\n",
    "    def update_into(self, table_name: str, where: str, where_value, **to_update):\n",
    "        update = ', '.join([f'{key}' for key in to_update.keys()])\n",
    "        values = tuple(to_update.values()) + (where_value,)\n",
    "        query = f'''\n",
    "        UPDATE {table_name}\n",
    "        SET {update} = ?\n",
    "        WHERE {where} = ?\n",
    "''' \n",
    "        self.cursor.execute(query, values)     \n",
    "\n",
    "    @try_execute\n",
    "    def fetch_one(self, table_name, what, where, where_value):\n",
    "        query = f'''\n",
    "        SELECT {what}\n",
    "        FROM {table_name}\n",
    "        WHERE {where} = ?\n",
    "''' \n",
    "        self.cursor.execute(query, (where_value,))\n",
    "        return self.cursor.fetchone()\n",
    "    \n",
    "    @try_execute\n",
    "    def fetch_all(self, table_name, what):\n",
    "        query = f'SELECT {what} FROM {table_name}'\n",
    "        self.cursor.execute(query)\n",
    "        return self.cursor.fetchall()\n",
    "    \n",
    "\n",
    "    @try_execute\n",
    "    def fetch_all_abt(self, table_name, where, where_value, *what):\n",
    "        \n",
    "        to_fetch = ', '. join([f'{key}' for key in what ])\n",
    "        query = f'''\n",
    "        SELECT {to_fetch}\n",
    "        FROM {table_name}\n",
    "        WHERE {where} = ?\n",
    "'''\n",
    "        self.cursor.execute(query, (where_value,))\n",
    "        return self.cursor.fetchall()\n",
    "    \n",
    "    \n",
    "    # Funções de DEBUG\n",
    "    def get_list_names(self):\n",
    "        return list(self.yaml_content.keys())\n",
    "\n",
    "    def get_names(self, table):\n",
    "        columns = self.yaml_content[table]['columns']\n",
    "        names = []\n",
    "        for column in columns: \n",
    "            names.append(column['name'])\n",
    "        return names\n",
    "\n",
    "    def get_types(self, table):\n",
    "        columns = self.yaml_content[table]['columns']\n",
    "        types = []\n",
    "        for column in columns: \n",
    "            types.append(column['type'])\n",
    "        return types\n",
    "\n",
    "    def what_about(self, table):\n",
    "        return list(zip(self.get_names(table), self.get_types(table)))\n",
    "\n",
    "    "
   ]
  },
  {
   "cell_type": "code",
   "execution_count": 56,
   "metadata": {},
   "outputs": [],
   "source": [
    "data = DbConnect('TestFile')"
   ]
  },
  {
   "cell_type": "code",
   "execution_count": 57,
   "metadata": {},
   "outputs": [
    {
     "name": "stdout",
     "output_type": "stream",
     "text": [
      "None\n"
     ]
    }
   ],
   "source": [
    "print(data.create_tables('SemesterInfo/semester.yaml'))"
   ]
  },
  {
   "cell_type": "code",
   "execution_count": 58,
   "metadata": {},
   "outputs": [
    {
     "data": {
      "text/plain": [
       "['Semester',\n",
       " 'UpComingEvents',\n",
       " 'User',\n",
       " 'Question',\n",
       " 'Grp',\n",
       " 'Participants',\n",
       " 'Date',\n",
       " 'Grade']"
      ]
     },
     "execution_count": 58,
     "metadata": {},
     "output_type": "execute_result"
    }
   ],
   "source": [
    "data.get_list_names()"
   ]
  },
  {
   "cell_type": "code",
   "execution_count": 59,
   "metadata": {},
   "outputs": [
    {
     "data": {
      "text/plain": [
       "[('year', 'INTEGER'),\n",
       " ('period', 'INTEGER'),\n",
       " ('start', 'TEXT'),\n",
       " ('end', 'TEXT')]"
      ]
     },
     "execution_count": 59,
     "metadata": {},
     "output_type": "execute_result"
    }
   ],
   "source": [
    "data.what_about('Semester')"
   ]
  },
  {
   "cell_type": "code",
   "execution_count": 60,
   "metadata": {},
   "outputs": [],
   "source": [
    "data.insert_into('Semester', year=2001, period=1)"
   ]
  },
  {
   "cell_type": "code",
   "execution_count": 62,
   "metadata": {},
   "outputs": [],
   "source": [
    "data.update_into('Semester', 'year', 2001, end='never')"
   ]
  },
  {
   "cell_type": "code",
   "execution_count": 63,
   "metadata": {},
   "outputs": [
    {
     "data": {
      "text/plain": [
       "[(1, None, 'never')]"
      ]
     },
     "execution_count": 63,
     "metadata": {},
     "output_type": "execute_result"
    }
   ],
   "source": [
    "data.fetch_all_abt('Semester', 'year', 2001, 'period', 'start', 'end')"
   ]
  },
  {
   "cell_type": "markdown",
   "metadata": {},
   "source": [
    "- Sobre a data Base \n",
    "- Preciso corrigir certos aspectos\n",
    "\n",
    "- Que tipo de pergunta farei ?"
   ]
  }
 ],
 "metadata": {
  "kernelspec": {
   "display_name": "Python 3",
   "language": "python",
   "name": "python3"
  },
  "language_info": {
   "codemirror_mode": {
    "name": "ipython",
    "version": 3
   },
   "file_extension": ".py",
   "mimetype": "text/x-python",
   "name": "python",
   "nbconvert_exporter": "python",
   "pygments_lexer": "ipython3",
   "version": "3.12.2"
  }
 },
 "nbformat": 4,
 "nbformat_minor": 2
}
