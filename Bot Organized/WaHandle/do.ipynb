{
 "cells": [
  {
   "cell_type": "markdown",
   "metadata": {},
   "source": [
    "# Objetivo\n",
    "Unificar ações do bot para este unico arquivo\n",
    "\n",
    "- Primeiro escuta por alguma chamada\n",
    "    - Responde a chamada de acordo com a mensagem\n",
    "\n",
    "- Responde a um prompt programado \n",
    "    - Envia mensagem \n",
    "        - escuta\n",
    "            - responde \n",
    "\n",
    "- Mensagens programadas possuem um privilegio \n",
    "    - Mas não podem interromper uma conversa\n",
    "\n",
    "- Robo precisa lembrar de onde parou com todos os usuarios\n",
    "- precisa lembrar se enviou a mensagem programada para eles \n",
    "- Meio de evitar loops de mensagens "
   ]
  },
  {
   "cell_type": "code",
   "execution_count": 3,
   "metadata": {},
   "outputs": [],
   "source": [
    "from send import Mouth # Fala\n",
    "from recieve import Ear # Escuta\n",
    "from filter import WhatsData # Organiza"
   ]
  },
  {
   "cell_type": "code",
   "execution_count": null,
   "metadata": {},
   "outputs": [],
   "source": []
  }
 ],
 "metadata": {
  "kernelspec": {
   "display_name": "Python 3",
   "language": "python",
   "name": "python3"
  },
  "language_info": {
   "codemirror_mode": {
    "name": "ipython",
    "version": 3
   },
   "file_extension": ".py",
   "mimetype": "text/x-python",
   "name": "python",
   "nbconvert_exporter": "python",
   "pygments_lexer": "ipython3",
   "version": "3.12.2"
  }
 },
 "nbformat": 4,
 "nbformat_minor": 2
}
