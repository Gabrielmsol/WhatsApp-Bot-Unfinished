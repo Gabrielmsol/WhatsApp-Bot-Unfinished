{
 "cells": [
  {
   "cell_type": "markdown",
   "metadata": {},
   "source": [
    "# Objetivo\n",
    "\n",
    "Apenas falar com o whatsapp"
   ]
  },
  {
   "cell_type": "code",
   "execution_count": 1,
   "metadata": {},
   "outputs": [],
   "source": [
    "# Necessário para o envio de mensagens\n",
    "import json\n",
    "import requests\n",
    "from base import Start_app"
   ]
  },
  {
   "cell_type": "markdown",
   "metadata": {},
   "source": [
    "# Classe responsavel por enviar mensagem para o whats app\n",
    "Recebe um app do flask, não esquecer de mensionar para quem enviara a mensagem"
   ]
  },
  {
   "cell_type": "code",
   "execution_count": null,
   "metadata": {},
   "outputs": [],
   "source": [
    "class Talk:\n",
    "    def __init__(self, app):\n",
    "        self.app = app\n",
    "        self.RECIPIENT_WAID = None\n",
    "    \n",
    "    def to_talk(self, RECIPIENT_WAID):\n",
    "        self.RECIPIENT_WAID = RECIPIENT_WAID\n",
    "    \n",
    "    \n",
    "    def send_default_message(self):\n",
    "\n",
    "        url = f\"https://graph.facebook.com/{self.app.config['VERSION']}/{self.app.config['PHONE_NUMBER_ID']}/messages\"\n",
    "        headers = {\n",
    "            \"Authorization\": \"Bearer \" + self.app.config['ACCESS_TOKEN'],\n",
    "            \"Content-Type\": \"application/json\",\n",
    "        }\n",
    "        data = {\n",
    "            \"messaging_product\": \"whatsapp\",\n",
    "            \"to\": self.RECIPIENT_WAID,\n",
    "            \"type\": \"template\",\n",
    "            \"template\": {\"name\": \"hello_world\", \"language\": {\"code\": \"en_US\"}},\n",
    "        }\n",
    "        response = requests.post(url, headers=headers, json=data)\n",
    "        return response\n",
    "    \n",
    "    def get_text_message_input(self, text):\n",
    "        return json.dumps(\n",
    "            {\n",
    "                \"messaging_product\": \"whatsapp\",\n",
    "                \"recipient_type\": \"individual\",\n",
    "                \"to\": self.RECIPIENT_WAID,\n",
    "                \"type\": \"text\",\n",
    "                \"text\": {\"preview_url\": False, \"body\": text},\n",
    "            }\n",
    "        )\n",
    "    \n",
    "    def send_message(self, text):\n",
    "        data = self.get_text_message_input(text)\n",
    "\n",
    "        headers = {\n",
    "            \"Content-type\": \"application/json\",\n",
    "            \"Authorization\": f\"Bearer {self.app.config['ACCESS_TOKEN']}\",\n",
    "        }\n",
    "\n",
    "        url = f\"https://graph.facebook.com/{self.app.config['VERSION']}/{self.app.config['PHONE_NUMBER_ID']}/messages\"\n",
    "\n",
    "        response = requests.post(url, data=data, headers=headers)\n",
    "        if response.status_code == 200:\n",
    "            print(\"Status:\", response.status_code)\n",
    "            print(\"Content-type:\", response.headers[\"content-type\"])\n",
    "            print(\"Body:\", response.text)\n",
    "            return response\n",
    "        else:\n",
    "            print(response.status_code)\n",
    "            print(response.text)\n",
    "            return response"
   ]
  }
 ],
 "metadata": {
  "kernelspec": {
   "display_name": "Python 3",
   "language": "python",
   "name": "python3"
  },
  "language_info": {
   "codemirror_mode": {
    "name": "ipython",
    "version": 3
   },
   "file_extension": ".py",
   "mimetype": "text/x-python",
   "name": "python",
   "nbconvert_exporter": "python",
   "pygments_lexer": "ipython3",
   "version": "3.12.2"
  }
 },
 "nbformat": 4,
 "nbformat_minor": 2
}
