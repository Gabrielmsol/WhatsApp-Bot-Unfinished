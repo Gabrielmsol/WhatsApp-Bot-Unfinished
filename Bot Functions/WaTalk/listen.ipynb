{
 "cells": [
  {
   "cell_type": "markdown",
   "metadata": {},
   "source": [
    "# Objetivo\n",
    "\n",
    "Escutar mensagens do facebook"
   ]
  },
  {
   "cell_type": "code",
   "execution_count": 4,
   "metadata": {},
   "outputs": [],
   "source": [
    "from flask import request, jsonify, current_app \n",
    "import hashlib\n",
    "import hmac"
   ]
  },
  {
   "cell_type": "markdown",
   "metadata": {},
   "source": [
    "# Classe responsavel por retornar a data "
   ]
  },
  {
   "cell_type": "code",
   "execution_count": 8,
   "metadata": {},
   "outputs": [],
   "source": [
    "class Listen:\n",
    "    def __init__(self, app):\n",
    "        self.app = app\n",
    "        self.webhook_status = False\n",
    "        self.data = None\n",
    "        self.set_routes()\n",
    "\n",
    "    def verify_signature(self, request):\n",
    "        received_signature = request.headers.get('x-hub-signature-256')\n",
    "        if not received_signature:\n",
    "            return False\n",
    "\n",
    "        payload = request.get_data()\n",
    "        expected_signature = 'sha256=' + hmac.new(\n",
    "            key=self.app.config['APP_SECRET'].encode(),\n",
    "            msg=payload,\n",
    "            digestmod=hashlib.sha256\n",
    "        ).hexdigest()\n",
    "\n",
    "        return hmac.compare_digest(received_signature, expected_signature)\n",
    "    \n",
    "    def set_routes(self):\n",
    "        @self.app.route('/webhook', methods=['GET', 'POST'])\n",
    "        def webhook():\n",
    "            if request.method == 'GET':\n",
    "                # Facebook webhook verification\n",
    "                mode = request.args.get('hub.mode')\n",
    "                token = request.args.get('hub.verify_token')\n",
    "                challenge = request.args.get('hub.challenge')\n",
    "\n",
    "                if mode and token:\n",
    "                    if mode == 'subscribe' and token == self.app.config['VERIFICATION_TOKEN']:\n",
    "                        self.webhook_status = True\n",
    "                        return challenge, 200\n",
    "                    else:\n",
    "                        return 'Verification token mismatch', 403\n",
    "\n",
    "            if request.method == 'POST':\n",
    "                # Verify the request signature\n",
    "                if not self.verify_signature(request):\n",
    "                    print(\"Invalid signature\")\n",
    "                    return jsonify({'status': 'error', 'message': 'Invalid signature'}), 403\n",
    "\n",
    "                self.data = request.json \n",
    "                \n",
    "                return jsonify({'status': 'success'}), 200"
   ]
  }
 ],
 "metadata": {
  "kernelspec": {
   "display_name": "Python 3",
   "language": "python",
   "name": "python3"
  },
  "language_info": {
   "codemirror_mode": {
    "name": "ipython",
    "version": 3
   },
   "file_extension": ".py",
   "mimetype": "text/x-python",
   "name": "python",
   "nbconvert_exporter": "python",
   "pygments_lexer": "ipython3",
   "version": "3.12.2"
  }
 },
 "nbformat": 4,
 "nbformat_minor": 2
}
