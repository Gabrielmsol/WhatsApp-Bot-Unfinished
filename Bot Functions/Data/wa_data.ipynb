{
 "cells": [
  {
   "cell_type": "markdown",
   "metadata": {},
   "source": [
    "# Objetivo\n",
    "\n",
    "Aqui estão as funções responsaveis por filtrar os dados fornecidos pelo facebook para algo mais facil de se usar\n",
    "Ou criar mensagens "
   ]
  },
  {
   "cell_type": "code",
   "execution_count": 1,
   "metadata": {},
   "outputs": [],
   "source": [
    "# Necessário para o envio de mensagens\n",
    "import json\n",
    "import requests\n",
    "# Necessário para o recebimento de mensagens \n",
    "from flask import Blueprint, request, jsonify, current_app \n",
    "import hashlib\n",
    "import hmac"
   ]
  },
  {
   "cell_type": "markdown",
   "metadata": {},
   "source": [
    "# Classe Responsavel por filtar informações recebidas da mensagem"
   ]
  },
  {
   "cell_type": "code",
   "execution_count": null,
   "metadata": {},
   "outputs": [],
   "source": [
    "class WhatsData:\n",
    "    '''\n",
    "Pega informações cruciais na mensagem:\n",
    "name\n",
    "type\n",
    "wa_id\n",
    "text\n",
    "    '''\n",
    "    def __init__(self, data):\n",
    "        self.data = data\n",
    "        self.process_data()\n",
    "\n",
    "    # essa linha esta mal implementada,\n",
    "    # se o dono do número não tiver o 9 no numero, ele adere.\n",
    "    # contudo, so funciona pra numeros do brasil...\n",
    "    def split(self, string):\n",
    "        string = str(string)\n",
    "        if len(string) == 12:\n",
    "            self.string = string[:4] + '9' + string[4:]\n",
    "        else:\n",
    "            self.string = string\n",
    "\n",
    "    def check_nested_path(self, path):\n",
    "        \"\"\"Checa se um caminho existe.\"\"\"\n",
    "        current_level = self.data\n",
    "        # Informações do whatsapp vêm bagunçadas, mistura de lista com dicionario...\n",
    "        for key in path:\n",
    "            if isinstance(current_level, dict):\n",
    "                if key in current_level:\n",
    "                    current_level = current_level[key]\n",
    "                else:\n",
    "                    return False\n",
    "            elif isinstance(current_level, list):\n",
    "                try:\n",
    "                    index = int(key)\n",
    "                    if 0 <= index < len(current_level):\n",
    "                        current_level = current_level[index]\n",
    "                    else:\n",
    "                        return False\n",
    "                except ValueError:\n",
    "                    return False\n",
    "            else:\n",
    "                return False\n",
    "\n",
    "        return True\n",
    "\n",
    "\n",
    "    def go_to_nested_path(self, path):\n",
    "        \"\"\"Vai para o path se ele existe.\"\"\"\n",
    "        current_level = self.data\n",
    "\n",
    "        for key in path:\n",
    "            if isinstance(current_level, dict):\n",
    "                if key in current_level:\n",
    "                    current_level = current_level[key]\n",
    "                else:\n",
    "                    return None\n",
    "            elif isinstance(current_level, list):\n",
    "                try:\n",
    "                    index = int(key)\n",
    "                    if 0 <= index < len(current_level):\n",
    "                        current_level = current_level[index]\n",
    "                    else:\n",
    "                        return None\n",
    "                except ValueError:\n",
    "                    return None\n",
    "            else:\n",
    "                return None\n",
    "\n",
    "        return current_level\n",
    "    \n",
    "    def process_data(self):\n",
    "        \"\"\"Processa o tipo de informação.\"\"\"\n",
    "        path = {\n",
    "            'is_read'        : ['entry', '0', 'changes', '0', 'value', 'statuses'],\n",
    "            'is_message'     : ['entry', '0', 'changes', '0', 'value', 'contacts'],\n",
    "            'read_wa_id'     : ['entry', '0', 'changes', '0', 'value', 'statuses', '0', 'recipient_id'],\n",
    "            'messanger_wa_id': ['entry', '0', 'changes', '0', 'value', 'contacts', '0', 'wa_id'],\n",
    "            'messanger_name' : ['entry', '0', 'changes', '0', 'value', 'contacts', '0', 'profile', 'name'],\n",
    "            'message_type'   : ['entry', '0', 'changes', '0', 'value', 'messages', '0', 'type'],\n",
    "            'message_text'   : ['entry', '0', 'changes', '0', 'value', 'messages', '0', 'text', 'body']\n",
    "        }\n",
    "        # Verifica se a mensagem é confirmação de lida\n",
    "        if self.check_nested_path(path['is_read']):\n",
    "            self.split(self.go_to_nested_path(path['read_wa_id']))\n",
    "            self.wa_id = self.string\n",
    "            self.name = None\n",
    "            self.type = 'read'\n",
    "            self.text = None\n",
    "        # verifica se é uma mensagem\n",
    "        if self.check_nested_path(path['is_message']):\n",
    "            self.split(self.go_to_nested_path(path['messanger_wa_id']))\n",
    "            self.wa_id = self.string\n",
    "            self.name = self.go_to_nested_path(path['messanger_name'])\n",
    "            self.type = self.go_to_nested_path(path['message_type'])\n",
    "            if self.type == 'text':\n",
    "                self.text = self.go_to_nested_path(path['message_text'])\n",
    "            else:\n",
    "                self.text = None\n",
    "\n"
   ]
  },
  {
   "cell_type": "markdown",
   "metadata": {},
   "source": [
    "# Manda mensagem templete\n",
    "\n",
    "Mensagem precisa ser aprovada pelo facebook, e é a unica mensagem que o bot pode mandar para um usuario se ele não responder"
   ]
  },
  {
   "cell_type": "code",
   "execution_count": null,
   "metadata": {},
   "outputs": [],
   "source": [
    "def send_whatsapp_message(RECIPIENT_WAID, app):\n",
    "\n",
    "    url = f\"https://graph.facebook.com/{app.config['VERSION']}/{app.config['PHONE_NUMBER_ID']}/messages\"\n",
    "    headers = {\n",
    "        \"Authorization\": \"Bearer \" + app.config['ACCESS_TOKEN'],\n",
    "        \"Content-Type\": \"application/json\",\n",
    "    }\n",
    "    data = {\n",
    "        \"messaging_product\": \"whatsapp\",\n",
    "        \"to\": RECIPIENT_WAID,\n",
    "        \"type\": \"template\",\n",
    "        \"template\": {\"name\": \"hello_world\", \"language\": {\"code\": \"en_US\"}},\n",
    "    }\n",
    "    response = requests.post(url, headers=headers, json=data)\n",
    "    return response"
   ]
  },
  {
   "cell_type": "markdown",
   "metadata": {},
   "source": [
    "# Cria templete para que o whats app possa mandar a mensagem"
   ]
  },
  {
   "cell_type": "code",
   "execution_count": null,
   "metadata": {},
   "outputs": [],
   "source": [
    "def get_text_message_input(RECIPIENT_WAID, text):\n",
    "    return json.dumps(\n",
    "        {\n",
    "            \"messaging_product\": \"whatsapp\",\n",
    "            \"recipient_type\": \"individual\",\n",
    "            \"to\": RECIPIENT_WAID,\n",
    "            \"type\": \"text\",\n",
    "            \"text\": {\"preview_url\": False, \"body\": text},\n",
    "        }\n",
    "    )"
   ]
  },
  {
   "cell_type": "markdown",
   "metadata": {},
   "source": [
    "# Envia mensagem\n",
    "\n",
    "Quando formatada"
   ]
  },
  {
   "cell_type": "code",
   "execution_count": null,
   "metadata": {},
   "outputs": [],
   "source": [
    "def send_message(data, app):\n",
    "    headers = {\n",
    "        \"Content-type\": \"application/json\",\n",
    "        \"Authorization\": f\"Bearer {app.config['ACCESS_TOKEN']}\",\n",
    "    }\n",
    "\n",
    "    url = f\"https://graph.facebook.com/{app.config['VERSION']}/{app.config['PHONE_NUMBER_ID']}/messages\"\n",
    "\n",
    "    response = requests.post(url, data=data, headers=headers)\n",
    "    if response.status_code == 200:\n",
    "        print(\"Status:\", response.status_code)\n",
    "        print(\"Content-type:\", response.headers[\"content-type\"])\n",
    "        print(\"Body:\", response.text)\n",
    "        return response\n",
    "    else:\n",
    "        print(response.status_code)\n",
    "        print(response.text)\n",
    "        return response\n",
    "    "
   ]
  },
  {
   "cell_type": "markdown",
   "metadata": {},
   "source": [
    "# Recebe mensagem"
   ]
  },
  {
   "cell_type": "markdown",
   "metadata": {},
   "source": [
    "## Cria instancia do Flask"
   ]
  },
  {
   "cell_type": "code",
   "execution_count": null,
   "metadata": {},
   "outputs": [],
   "source": [
    "webhook_blueprint = Blueprint(\"webhook\", __name__)"
   ]
  },
  {
   "cell_type": "markdown",
   "metadata": {},
   "source": [
    "## Metodo de verificar assinatura"
   ]
  },
  {
   "cell_type": "code",
   "execution_count": null,
   "metadata": {},
   "outputs": [],
   "source": [
    "def verify_signature(request, app):\n",
    "    received_signature = request.headers.get('x-hub-signature-256')\n",
    "    if not received_signature:\n",
    "        return False\n",
    "    \n",
    "    # Generate the expected signature\n",
    "    payload = request.get_data()\n",
    "    expected_signature = 'sha256=' + hmac.new(\n",
    "        key=app.config['APP_SECRET'].encode(),\n",
    "        msg=payload,\n",
    "        digestmod=hashlib.sha256\n",
    "    ).hexdigest()\n",
    "    \n",
    "    # Compare the signatures\n",
    "    return hmac.compare_digest(received_signature, expected_signature)"
   ]
  },
  {
   "cell_type": "markdown",
   "metadata": {},
   "source": [
    "## Recebe a mensagem e executa a função"
   ]
  },
  {
   "cell_type": "code",
   "execution_count": null,
   "metadata": {},
   "outputs": [],
   "source": [
    "@webhook_blueprint.route('/webhook', methods=['GET', 'POST'])\n",
    "def webhook():\n",
    "    if request.method == 'GET':\n",
    "        # Facebook webhook verification\n",
    "        mode = request.args.get('hub.mode')\n",
    "        token = request.args.get('hub.verify_token')\n",
    "        challenge = request.args.get('hub.challenge')\n",
    "\n",
    "        if mode and token:\n",
    "            if mode == 'subscribe' and token == current_app.config['VERIFICATION_TOKEN']:\n",
    "                print(\"Webhook verified\")\n",
    "                return challenge, 200\n",
    "            else:\n",
    "                return 'Verification token mismatch', 403\n",
    "\n",
    "    if request.method == 'POST':\n",
    "        # Verify the request signature\n",
    "        if not verify_signature(request, current_app):\n",
    "            print(\"Invalid signature\")\n",
    "            return jsonify({'status': 'error', 'message': 'Invalid signature'}), 403\n",
    "\n",
    "        # Handle the incoming webhook event\n",
    "        # Essa parte que devemos alterar \n",
    "        data = request.json # recebe a mensagem em formato de data\n",
    "        do_it(data, current_app)\n",
    "        #print(f\"Received webhook: {data}\")\n",
    "        return jsonify({'status': 'success'}), 200"
   ]
  }
 ],
 "metadata": {
  "kernelspec": {
   "display_name": "Python 3",
   "language": "python",
   "name": "python3"
  },
  "language_info": {
   "codemirror_mode": {
    "name": "ipython",
    "version": 3
   },
   "file_extension": ".py",
   "mimetype": "text/x-python",
   "name": "python",
   "nbconvert_exporter": "python",
   "pygments_lexer": "ipython3",
   "version": "3.12.2"
  }
 },
 "nbformat": 4,
 "nbformat_minor": 2
}
