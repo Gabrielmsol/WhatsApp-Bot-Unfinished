{
 "cells": [
  {
   "cell_type": "markdown",
   "metadata": {},
   "source": [
    "# Objetivo\n",
    "\n",
    "Aqui estão as funções responsaveis por criar e se comunicar com a data base"
   ]
  },
  {
   "cell_type": "code",
   "execution_count": null,
   "metadata": {},
   "outputs": [],
   "source": [
    "import sqlite3 as sql # Banco de dados"
   ]
  },
  {
   "cell_type": "markdown",
   "metadata": {},
   "source": [
    "# Iniciar comunicação\n",
    "\n",
    "Classe responsavel por iniciar comunicação com um aquivo DataBase"
   ]
  },
  {
   "cell_type": "code",
   "execution_count": null,
   "metadata": {},
   "outputs": [],
   "source": [
    "class Connect:\n",
    "    def __init__(self, file_name, *classes, **numbered_classes):\n",
    "        self.conn = sql.connect(file_name)\n",
    "        self.instances = set()\n",
    "\n",
    "        # Se for args. Pode chamar pelo nome\n",
    "        for cls in classes: \n",
    "            instance = cls(self.conn)\n",
    "            setattr(self, cls.__name__, instance)\n",
    "            self.instances.add(instance)\n",
    "        # Se for kwargs. Pode chamar pela chave mais o nome\n",
    "        for key, cls in numbered_classes.items():\n",
    "            instance = cls(self.conn, key) # So aceita uma chave por vez\n",
    "            setattr(self, cls.__name__+'_'+key, instance)\n",
    "            self.instances.add(instance)\n",
    "\n",
    "    def create_tables(self):\n",
    "        'Chama a função create_table nas classes'\n",
    "        for instance in self.instances:\n",
    "            if callable(getattr(instance, 'create_table', None)):\n",
    "                instance.create_table()\n",
    "\n",
    "    def debug(self):\n",
    "        'Fecha tudo'\n",
    "        for instance in self.instances:\n",
    "            if hasattr(instance, 'cursor'):\n",
    "                cursor = getattr(instance, 'cursor')\n",
    "                if cursor is not None and callable(getattr(cursor, 'close', None)):\n",
    "                    cursor.close()\n",
    "\n",
    "    def send(self):\n",
    "        self.conn.commit()\n",
    "\n",
    "    def end(self):\n",
    "        self.conn.close()"
   ]
  },
  {
   "cell_type": "markdown",
   "metadata": {},
   "source": [
    "# Funções\n",
    "\n",
    "Classe mãe que dara ao resto da data base funções, como:\n",
    "- Receber\n",
    "- evnviar"
   ]
  },
  {
   "cell_type": "code",
   "execution_count": null,
   "metadata": {},
   "outputs": [],
   "source": [
    "class Functions:\n",
    "    '''\n",
    "    Se pertubar, adicionar\n",
    "    def __init__(self):\n",
    "        self.table = None\n",
    "\n",
    "    E em todas as funções\n",
    "    if self.table is none\n",
    "        return\n",
    "    function ....\n",
    "    '''\n",
    "    def check(self, what, value):\n",
    "        # Inicia Cursor\n",
    "        cursor = self.conn.cursor()\n",
    "        # Realiza operação\n",
    "        query = f'SELECT COUNT(*) FROM {self.table}  where {what} = ?'\n",
    "        self.cursor.execute(query, (value,))\n",
    "        result = cursor.fetchone()[0] > 0\n",
    "        # Fecha Cursor\n",
    "        cursor.close()\n",
    "        if result:\n",
    "            return True\n",
    "        else:\n",
    "            return False\n",
    "        \n",
    "        \n",
    "    def insert(self, **what):\n",
    "        # Inicia\n",
    "        cursor = self.conn.cursor()\n",
    "        # Operação\n",
    "        keys = ', '.join(what.keys())\n",
    "        placeholders = ', '.join(['?'] * len(what))\n",
    "        values = tuple(what.values()) \n",
    "        query = f'''\n",
    "            INSERT OR IGNORE INTO {self.table} ({keys})\n",
    "            VALUES ({placeholders})\n",
    "'''\n",
    "        cursor.execute(query, values)\n",
    "        # Fecha \n",
    "        cursor.close()\n",
    "        \n",
    "    def update(self, where, where_value, **to_update):\n",
    "        # Inicia\n",
    "        cursor = self.conn.cursor()\n",
    "        # operação\n",
    "        update = ', '.join([f'{key}' for key in to_update.keys()])\n",
    "        values = tuple(to_update.values()) + (where_value,)\n",
    "        query = f'''\n",
    "        UPDATE {self.table}\n",
    "        SET {update} = ?\n",
    "        WHERE {where} = ?\n",
    "'''\n",
    "        cursor.execute(query, values) \n",
    "        # Fecha\n",
    "        cursor.close()  \n",
    "         \n",
    "    def fetch_one(self, what, where, where_value):\n",
    "        # Inicia\n",
    "        cursor = self.conn.cursor()\n",
    "        # Operação\n",
    "        query = f'''\n",
    "        SELECT {what}\n",
    "        FROM {self.table}\n",
    "        WHERE {where} = ?\n",
    "'''\n",
    "        cursor.execute(query, (where_value,))\n",
    "        result = cursor.fetchone()\n",
    "        # Fecha\n",
    "        cursor.close()\n",
    "        return result\n",
    "    \n",
    "    def fetch_all(self, what):\n",
    "        # Inicia\n",
    "        cursor = self.conn.cursor()\n",
    "        # Operação\n",
    "        query = f'SELECT {what} FROM {self.table}'\n",
    "        cursor.execute(query)\n",
    "        result =  cursor.fetchall()\n",
    "        # Fecha\n",
    "        cursor.close()\n",
    "        return result\n",
    "    \n",
    "    def fetch_all_abt(self, where, where_value, *what):\n",
    "        # Inicia\n",
    "        cursor = self.conn.cursor()\n",
    "        to_fetch = ', '. join([f'{key}' for key in what ])\n",
    "        query = f'''\n",
    "        SELECT {to_fetch}\n",
    "        FROM {self.table}\n",
    "        WHERE {where} = ?\n",
    "'''\n",
    "        cursor.execute(query, (where_value,))\n",
    "        result = cursor.fetchall()\n",
    "        # Fecha\n",
    "        cursor.close()\n",
    "        return result"
   ]
  },
  {
   "cell_type": "markdown",
   "metadata": {},
   "source": [
    "## Mesa de usuario mestre\n",
    "Aqui do basta o id do whatsapp e nome \n",
    "essa mesa é separada do resto uma vez que é imutavel\n",
    "- Usuario mestre pode mexer em tudo "
   ]
  },
  {
   "cell_type": "code",
   "execution_count": null,
   "metadata": {},
   "outputs": [],
   "source": [
    "class Sun(Functions):\n",
    "    def __init__(self, conn):\n",
    "        self.conn = conn\n",
    "        self.table = 'Sun'\n",
    "\n",
    "    # Cria a tabela de usuario\n",
    "    def create_table(self):\n",
    "        cursor = self.conn.cursor()\n",
    "        cursor.execute(f'''\n",
    "        CREATE TABLE IF NOT EXISTS {self.table} (\n",
    "            wa_id TEXT PRIMARY KEY,\n",
    "            name TEXT NOT NULL\n",
    "        )\n",
    "        ''')\n",
    "        cursor.close()"
   ]
  },
  {
   "cell_type": "markdown",
   "metadata": {},
   "source": [
    "## Semestre\n",
    "Essa classe da inicio ao semestre, esta no inicio de toda data base."
   ]
  },
  {
   "cell_type": "code",
   "execution_count": null,
   "metadata": {},
   "outputs": [],
   "source": [
    "class Semester(Functions):\n",
    "    def __init__(self, conn):\n",
    "        self.conn = conn\n",
    "        self.table = 'Semester'\n",
    "\n",
    "    # Cria a tabela de usuario\n",
    "    def create_table(self):\n",
    "        cursor = self.conn.cursor()\n",
    "        cursor.execute(f'''\n",
    "        CREATE TABLE IF NOT EXISTS {self.table} (\n",
    "            year INTEGER NOT NULL,\n",
    "            period INTEGER NOT NULL CHECK (period IN (1, 2)),\n",
    "            start TEXT, \n",
    "            end TEXT,\n",
    "            UNIQUE (year, period)\n",
    "        )\n",
    "        ''')\n",
    "        cursor.close()"
   ]
  },
  {
   "cell_type": "markdown",
   "metadata": {},
   "source": [
    "## Avisos\n",
    "Segunda entrada na mesa, guarda informações relevantes "
   ]
  },
  {
   "cell_type": "code",
   "execution_count": null,
   "metadata": {},
   "outputs": [],
   "source": [
    "class UpComingEvents(Functions):\n",
    "    def __init__(self, conn):\n",
    "        self.conn = conn\n",
    "        self.table = 'UpComingEvents'\n",
    "\n",
    "    # Cria a tabela de usuario\n",
    "    def create_table(self):\n",
    "        cursor = self.conn.cursor()\n",
    "        cursor.execute(f'''\n",
    "        CREATE TABLE IF NOT EXISTS {self.table} (\n",
    "            day TEXT NOT NULL,\n",
    "            event TEXT\n",
    "        )\n",
    "        ''')\n",
    "        cursor.close()"
   ]
  },
  {
   "cell_type": "markdown",
   "metadata": {},
   "source": [
    "## Mesa de Usuarios\n",
    "Contem informações sobre os usuarios do semestre"
   ]
  },
  {
   "cell_type": "code",
   "execution_count": null,
   "metadata": {},
   "outputs": [],
   "source": [
    "class User(Functions):\n",
    "    def __init__(self, conn):\n",
    "        self.conn = conn\n",
    "        self.table = 'User'\n",
    "\n",
    "    # Cria a tabela de usuario\n",
    "    def create_table(self):\n",
    "        cursor = self.conn.cursor()\n",
    "        cursor.execute(f'''\n",
    "        CREATE TABLE IF NOT EXISTS {self.table} (\n",
    "            wa_id TEXT PRIMARY KEY,\n",
    "            matr INTEGER DEFAULT 0,\n",
    "            name TEXT DEFAULT 'Unknown',\n",
    "            role TEXT DEFAULT 'Lua',\n",
    "            age INTEGER DEFAULT 0,\n",
    "            gender TEXT DEFAULT 'Unkown',\n",
    "            origin TEXT DEFAULT 'Unkown',\n",
    "            trancou INTEGER DEFAULT 0 CHECK (trancou IN (0, 1))\n",
    "            UNIQUE (wa_id, matr) \n",
    "        )\n",
    "        ''')\n",
    "        cursor.close()"
   ]
  },
  {
   "cell_type": "markdown",
   "metadata": {},
   "source": [
    "## Quanto se sabe do usuairo\n",
    "Verifica se é necessario perguntar informações ao usuario "
   ]
  },
  {
   "cell_type": "code",
   "execution_count": null,
   "metadata": {},
   "outputs": [],
   "source": [
    "class Question(Functions):\n",
    "    def __init__(self, conn):\n",
    "        self.conn = conn\n",
    "        self.table = 'User'\n",
    "\n",
    "    # Cria a tabela de usuario\n",
    "    def create_table(self):\n",
    "        cursor = self.conn.cursor()\n",
    "        cursor.execute(f'''\n",
    "        CREATE TABLE IF NOT EXISTS {self.table} (\n",
    "            wa_id TEXT,\n",
    "            name INTEGER DEFAULT 0 CHECK (name IN (0, 1)),\n",
    "            gender INTEGER DEFAULT 0 CHECK (gender IN (0, 1)),\n",
    "            matr INTEGER DEFAULT 0 CHECK (matr IN (0, 1)),\n",
    "            origin INTEGER DEFAULT 0 CHECK (origin IN (0, 1)),\n",
    "            age INTEGER DEFAULT 0 CHECK (age IN (0, 1)),\n",
    "            FOREIGN KEY (wa_id) REFERENCES User(wa_id)\n",
    "        )\n",
    "        ''')\n",
    "        cursor.close()"
   ]
  },
  {
   "cell_type": "markdown",
   "metadata": {},
   "source": [
    "## Informações de grupos"
   ]
  },
  {
   "cell_type": "code",
   "execution_count": null,
   "metadata": {},
   "outputs": [],
   "source": [
    "class Group(Functions):\n",
    "    def __init__(self, conn):\n",
    "        self.conn = conn\n",
    "        self.table = 'Grp'\n",
    "\n",
    "    # Cria a tabela de usuario\n",
    "    def create_table(self):\n",
    "        cursor = self.conn.cursor()\n",
    "        cursor.execute(f'''\n",
    "        CREATE TABLE IF NOT EXISTS {self.table} (\n",
    "            grp_id INTEGER PRIMARY KEY AUTOINCREMENT,\n",
    "            grpName TEXT NOT NULL,\n",
    "            narrador INTEGER NOT NULL,\n",
    "            FOREIGN KEY (narrador) REFERENCES User(matr),\n",
    "            UNIQUE (grpName, narrador)\n",
    "        )\n",
    "        ''')\n",
    "        cursor.close()"
   ]
  },
  {
   "cell_type": "markdown",
   "metadata": {},
   "source": [
    "## Informação sobre os participantes dos grupos "
   ]
  },
  {
   "cell_type": "code",
   "execution_count": null,
   "metadata": {},
   "outputs": [],
   "source": [
    "class Participants(Functions):\n",
    "    def __init__(self, conn):\n",
    "        self.conn = conn\n",
    "        self.table = 'Participants'\n",
    "\n",
    "    # Cria a tabela de usuario\n",
    "    def create_table(self):\n",
    "        cursor = self.conn.cursor()\n",
    "        cursor.execute(f'''\n",
    "        CREATE TABLE IF NOT EXISTS {self.table} (\n",
    "            grp_id INTEGER NOT NULL,\n",
    "            members INTEGER NOT NULL,\n",
    "            FOREIGN KEY (grp_id) REFERENCES Grp(gpr_id),\n",
    "            FOREIGN KEY (members) REFERENCES User(matr)\n",
    "        )\n",
    "        ''')\n",
    "        cursor.close()"
   ]
  },
  {
   "cell_type": "markdown",
   "metadata": {},
   "source": [
    "## Informações dos dias letivos"
   ]
  },
  {
   "cell_type": "code",
   "execution_count": null,
   "metadata": {},
   "outputs": [],
   "source": [
    "class Date(Functions):\n",
    "    def __init__(self, conn):\n",
    "        self.conn = conn\n",
    "        self.table = 'Date'\n",
    "\n",
    "    # Cria a tabela de usuario\n",
    "    def create_table(self):\n",
    "        cursor = self.conn.cursor()\n",
    "        cursor.execute(f'''\n",
    "        CREATE TABLE IF NOT EXISTS {self.table} (\n",
    "            day TEXT PRIMARY KEY,\n",
    "            confirmation INTEGER DEFAULT 1 CHECK (confirmation IN (0, 1))\n",
    "        )\n",
    "        ''')\n",
    "        cursor.close()"
   ]
  },
  {
   "cell_type": "markdown",
   "metadata": {},
   "source": [
    "## Informações sobre notas de alunos\n",
    "Nota de cada dia "
   ]
  },
  {
   "cell_type": "code",
   "execution_count": null,
   "metadata": {},
   "outputs": [],
   "source": [
    "class Grade(Functions):\n",
    "    def __init__(self, conn):\n",
    "        self.conn = conn\n",
    "        self.table = 'Grade'\n",
    "\n",
    "    # Cria a tabela de usuario\n",
    "    def create_table(self):\n",
    "        cursor = self.conn.cursor()\n",
    "        cursor.execute(f'''\n",
    "        CREATE TABLE IF NOT EXISTS {self.table} (\n",
    "            matr INTEGER NOT NULL,\n",
    "            day TEXT NOT NULL,\n",
    "            grade REAL DEFAULT 0.0, \n",
    "            repDay TEXT DEFAULT 'None',\n",
    "            attend INTEGER DEFAULT 0 CHECK (attend IN (0, 1)),\n",
    "            rep INTEGER DEFAULT 0 CHECK (rep IN (0, 1)),\n",
    "            FOREIGN KEY (matr) REFERENCES User(matr),\n",
    "            UNIQUE (matr, day)\n",
    "        )\n",
    "        ''')\n",
    "        cursor.close()"
   ]
  }
 ],
 "metadata": {
  "language_info": {
   "name": "python"
  }
 },
 "nbformat": 4,
 "nbformat_minor": 2
}
