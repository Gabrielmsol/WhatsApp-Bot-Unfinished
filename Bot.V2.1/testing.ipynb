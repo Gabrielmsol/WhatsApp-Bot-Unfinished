{
 "cells": [
  {
   "cell_type": "code",
   "execution_count": 20,
   "metadata": {},
   "outputs": [],
   "source": [
    "import requests\n",
    "import json\n",
    "from App import create_app"
   ]
  },
  {
   "cell_type": "code",
   "execution_count": 21,
   "metadata": {},
   "outputs": [],
   "source": [
    "appi = create_app()\n"
   ]
  },
  {
   "cell_type": "code",
   "execution_count": 5,
   "metadata": {},
   "outputs": [],
   "source": [
    "\n",
    "def send_interactive_message(app):\n",
    "    data = {\n",
    "        \"messaging_product\": \"whatsapp\",\n",
    "        \"to\": app.config[\"RECIPIENT_WAID\"],  # Replace with the recipient's phone number\n",
    "        \"type\": \"interactive\",\n",
    "        \"interactive\": {\n",
    "            \"type\": \"button\",  # Button-based interactive message\n",
    "            \"body\": {\n",
    "                \"text\": \"Please choose an option:\"\n",
    "            },\n",
    "            \"action\": {\n",
    "                \"buttons\": [\n",
    "                    {\n",
    "                        \"type\": \"reply\",\n",
    "                        \"reply\": {\n",
    "                            \"id\": \"option1\",  # ID for internal tracking\n",
    "                            \"title\": \"Sim\"  # Text shown to the user\n",
    "                        }\n",
    "                    },\n",
    "                    {\n",
    "                        \"type\": \"reply\",\n",
    "                        \"reply\": {\n",
    "                            \"id\": \"option2\",  # ID for internal tracking\n",
    "                            \"title\": \"Não\"  # Text shown to the user\n",
    "                        }\n",
    "                    }\n",
    "                ]\n",
    "            }\n",
    "        }\n",
    "    }\n",
    "\n",
    "    headers = {\n",
    "        \"Content-type\": \"application/json\",\n",
    "        \"Authorization\": f\"Bearer {app.config['ACCESS_TOKEN']}\"\n",
    "    }\n",
    "\n",
    "    url = f\"https://graph.facebook.com/{app.config['VERSION']}/{app.config['PHONE_NUMBER_ID']}/messages\" \n",
    "\n",
    "    response = requests.post(url, json=data, headers=headers)\n",
    "    if response.status_code == 200:\n",
    "        print(\"Message sent successfully!\")\n",
    "        print(\"Response:\", response.json())\n",
    "    else:\n",
    "        print(\"Failed to send message\")\n",
    "        print(\"Status Code:\", response.status_code)\n",
    "        print(\"Response:\", response.json())\n"
   ]
  },
  {
   "cell_type": "code",
   "execution_count": 7,
   "metadata": {},
   "outputs": [
    {
     "name": "stdout",
     "output_type": "stream",
     "text": [
      "+5561984168896\n"
     ]
    }
   ],
   "source": [
    "print(appi.config['RECIPIENT_WAID'])"
   ]
  },
  {
   "cell_type": "code",
   "execution_count": 11,
   "metadata": {},
   "outputs": [
    {
     "name": "stdout",
     "output_type": "stream",
     "text": [
      "Message sent successfully!\n",
      "Response: {'messaging_product': 'whatsapp', 'contacts': [{'input': '+5561984168896', 'wa_id': '556184168896'}], 'messages': [{'id': 'wamid.HBgMNTU2MTg0MTY4ODk2FQIAERgSQzAzNEQwMjU3MDRCMTNDQjEwAA=='}]}\n"
     ]
    }
   ],
   "source": [
    "\n",
    "# Call the function to send the message\n",
    "send_interactive_message(appi)"
   ]
  },
  {
   "cell_type": "code",
   "execution_count": 40,
   "metadata": {},
   "outputs": [],
   "source": [
    "import requests\n",
    "import json\n",
    "\n",
    "def send_list_message(app):\n",
    "    data = {\n",
    "        \"messaging_product\": \"whatsapp\",\n",
    "        \"to\": \"\",  # Replace with recipient's phone number\n",
    "        \"type\": \"interactive\",\n",
    "        \"interactive\": {\n",
    "            \"type\": \"list\",  # List-based interactive message\n",
    "            \"header\": {\n",
    "                \"type\": \"text\",\n",
    "                \"text\": \"Select an option\"\n",
    "            },\n",
    "            \"body\": {\n",
    "                \"text\": \"Please choose one of the following options:\"\n",
    "            },\n",
    "            \"footer\": {\n",
    "                \"text\": \"You can only choose one\"\n",
    "            },\n",
    "            \"action\": {\n",
    "                \"button\": \"Options\",  # Text on the button that opens the list\n",
    "                \"sections\": [\n",
    "                    {\n",
    "                        \"title\": \"Available Options\",  # Title of the section\n",
    "                        \"rows\": [\n",
    "                            {\n",
    "                                \"id\": \"option1\",  # ID used to track the selection\n",
    "                                \"title\": \"Option 1\",  # Option displayed to the user\n",
    "                                \"description\": \"Description of option 1\"\n",
    "                            },\n",
    "                            {\n",
    "                                \"id\": \"option2\",\n",
    "                                \"title\": \"Option 2\",\n",
    "                                \"description\": \"Description of option 2\"\n",
    "                            },\n",
    "                            {\n",
    "                                \"id\": \"option3\",\n",
    "                                \"title\": \"Option 3\",\n",
    "                                \"description\": \"Description of option 3\"\n",
    "                            }\n",
    "                        ]\n",
    "                    }\n",
    "                ]\n",
    "            }\n",
    "        }\n",
    "    }\n",
    "\n",
    "\n",
    "    data1 = {\n",
    "    \"messaging_product\": \"whatsapp\",\n",
    "    \"to\": \"<RECIPIENT_PHONE_NUMBER>\",  # Replace with the recipient's phone number\n",
    "}\n",
    "\n",
    "    data2 = {\n",
    "        \"type\": \"interactive\",\n",
    "    \"interactive\": {\n",
    "        \"type\": \"list\",\n",
    "    \"header\": {\n",
    "        \"type\": \"text\",\n",
    "        \"text\": \"Header text\"\n",
    "    },\n",
    "    \"body\": {\n",
    "        \"text\": \"Choose from the list below\"\n",
    "    },\n",
    "    \"footer\": {\n",
    "        \"text\": \"Footer text\"\n",
    "    },\n",
    "    \"action\": {\n",
    "        \"button\": \"Show options\",\n",
    "        \"sections\": [\n",
    "            {\n",
    "                \"title\": \"Section 1\",\n",
    "                \"rows\": [\n",
    "                    {\n",
    "                        \"id\": \"option1\",\n",
    "                        \"title\": \"Option 1\",\n",
    "                        \"description\": \"Description 1\"\n",
    "                    },\n",
    "                    {\n",
    "                        \"id\": \"option2\",\n",
    "                        \"title\": \"Option 2\",\n",
    "                        \"description\": \"Description 2\"\n",
    "                    }\n",
    "                ]\n",
    "            },\n",
    "            {\n",
    "                \"title\": \"Section 2\",\n",
    "                \"rows\": [\n",
    "                    {\n",
    "                        \"id\": \"option3\",\n",
    "                        \"title\": \"Option 3\",\n",
    "                        \"description\": \"Description 3\"\n",
    "                    }\n",
    "                ]\n",
    "            }\n",
    "        ]\n",
    "    }\n",
    "}\n",
    "\n",
    "    \n",
    "}\n",
    "\n",
    "    data = {**data1, **data2}\n",
    "\n",
    "    data = {\n",
    "  \"messaging_product\": \"whatsapp\",\n",
    "  \"to\": \"<RECIPIENT_PHONE_NUMBER>\",\n",
    "  \"type\": \"image\",\n",
    "  \"image\": {\n",
    "      \"link\": \"https://upload.wikimedia.org/wikipedia/pt/e/ed/Shrek%28personagem%29.jpg\"  # URL of the image\n",
    "  }\n",
    "}\n",
    "    \n",
    "\n",
    "\n",
    "    data['to'] = app.config[\"RECIPIENT_WAID\"]\n",
    "\n",
    "    headers = {\n",
    "        \"Content-type\": \"application/json\",\n",
    "        \"Authorization\": f\"Bearer {app.config['ACCESS_TOKEN']}\",  # Replace with your API token\n",
    "    }\n",
    "\n",
    "    url = f\"https://graph.facebook.com/{app.config['VERSION']}/{app.config['PHONE_NUMBER_ID']}/messages\"  # Replace with your version and phone number ID\n",
    "\n",
    "    response = requests.post(url, json=data, headers=headers)\n",
    "    if response.status_code == 200:\n",
    "        print(\"Message sent successfully!\")\n",
    "        print(\"Response:\", response.json())\n",
    "    else:\n",
    "        print(\"Failed to send message\")\n",
    "        print(\"Status Code:\", response.status_code)\n",
    "        print(\"Response:\", response.json())\n"
   ]
  },
  {
   "cell_type": "code",
   "execution_count": 41,
   "metadata": {},
   "outputs": [
    {
     "name": "stdout",
     "output_type": "stream",
     "text": [
      "Message sent successfully!\n",
      "Response: {'messaging_product': 'whatsapp', 'contacts': [{'input': '+5561984168896', 'wa_id': '556184168896'}], 'messages': [{'id': 'wamid.HBgMNTU2MTg0MTY4ODk2FQIAERgSRTk2M0I0Mzg1QTUxN0VCNkVCAA=='}]}\n"
     ]
    }
   ],
   "source": [
    "\n",
    "# Call the function to send the list message\n",
    "send_list_message(appi)\n"
   ]
  }
 ],
 "metadata": {
  "kernelspec": {
   "display_name": "Python 3",
   "language": "python",
   "name": "python3"
  },
  "language_info": {
   "codemirror_mode": {
    "name": "ipython",
    "version": 3
   },
   "file_extension": ".py",
   "mimetype": "text/x-python",
   "name": "python",
   "nbconvert_exporter": "python",
   "pygments_lexer": "ipython3",
   "version": "3.12.2"
  }
 },
 "nbformat": 4,
 "nbformat_minor": 2
}
